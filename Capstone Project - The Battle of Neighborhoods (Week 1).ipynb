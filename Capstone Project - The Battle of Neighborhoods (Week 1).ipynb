{
 "cells": [
  {
   "cell_type": "markdown",
   "metadata": {},
   "source": [
    "# Restaurant in Brooklyn - Which Neighborhoods should I pick to build a new one?"
   ]
  },
  {
   "cell_type": "markdown",
   "metadata": {},
   "source": [
    "## 1. Introduction"
   ]
  },
  {
   "cell_type": "markdown",
   "metadata": {},
   "source": [
    "Brooklyn, as one of the Borough in New York, is the most populous county and the second-most densely populated county in the United States, with an estimated 2,582,830 residents in 2018. This fact shows us that Brooklyn is a promising market for investors/business owners to start their business.\n",
    "\n",
    "One of the challenge faced in starting new business is to choose where the location of the business is. As a Data Scientist, I am having an inquiry from a business owner to decide which neighborhoods are most suitable to build their first restaurant. \n",
    "\n",
    "The approach to solve the inquiry is to cluster all neighborhoods in Brooklyn based on criterias related to the problem. The criteria focuses on how many competitor is in the neighborhood, competitor's rating, and comments from customer about existing restaurants, and top venues in the neighborhood. The output would be different cluster of neighborhoods with different characteristics. The business owner then can choose in which cluster of neighborhoods should they build their first restaurant.\n",
    "\n",
    "Hopefully this first restaurant will bring a lot of customers and generate enough revenue to leverage the business, that will help the company to expand to other locations."
   ]
  },
  {
   "cell_type": "markdown",
   "metadata": {},
   "source": [
    "## 2. Data"
   ]
  },
  {
   "cell_type": "markdown",
   "metadata": {},
   "source": [
    "For this analysis, I make a list of neighborhoods in Brooklyn based on the New York Dataset provided by this course (https://cocl.us/new_york_dataset/). The data list 70 neighborhoods in Brooklyn. All of the Data used in this project will come from Foursquare Location Data, which focuses on Location Data and Venues Data. \n",
    "\n",
    "Location data are used to list venues that lies within the radius in the neighborhood. After listing all the venues, we explore all the venues by Venues Data to gather ratings and # of tips from every restaurant. We also list the top 10 venues that exist in each neighborhood. Finally, those neighborhood will be clustered using K-Means Clustering, to group similar neighborhoods with positive score in each aspect."
   ]
  },
  {
   "cell_type": "code",
   "execution_count": null,
   "metadata": {},
   "outputs": [],
   "source": []
  }
 ],
 "metadata": {
  "kernelspec": {
   "display_name": "Python 3",
   "language": "python",
   "name": "python3"
  },
  "language_info": {
   "codemirror_mode": {
    "name": "ipython",
    "version": 3
   },
   "file_extension": ".py",
   "mimetype": "text/x-python",
   "name": "python",
   "nbconvert_exporter": "python",
   "pygments_lexer": "ipython3",
   "version": "3.7.0"
  }
 },
 "nbformat": 4,
 "nbformat_minor": 2
}
